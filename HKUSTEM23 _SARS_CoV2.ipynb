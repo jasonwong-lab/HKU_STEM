{
  "nbformat": 4,
  "nbformat_minor": 0,
  "metadata": {
    "colab": {
      "name": "HKUSTEM_SARS-CoV2.ipynb",
      "provenance": [],
      "include_colab_link": true
    },
    "kernelspec": {
      "name": "python3",
      "display_name": "Python 3"
    },
    "language_info": {
      "name": "python"
    },
    "accelerator": "GPU",
    "gpuClass": "standard"
  },
  "cells": [
    {
      "cell_type": "markdown",
      "metadata": {
        "id": "view-in-github",
        "colab_type": "text"
      },
      "source": [
        "<a href=\"https://colab.research.google.com/github/jasonwong-lab/HKU_STEM/blob/main/HKUSTEM23%20_SARS_CoV2.ipynb\" target=\"_parent\"><img src=\"https://colab.research.google.com/assets/colab-badge.svg\" alt=\"Open In Colab\"/></a>"
      ]
    },
    {
      "cell_type": "markdown",
      "source": [
        "### How sequencing is used to identify SARS-CoV2 strains (HKU STEM Bootcamp on Biomedical data science)\n",
        "\n",
        "*by Dr Jason Wong (Associate Professor, School of Biomedical Sciences, HKU)*\n",
        "\n",
        "The objective of this workshop is show demonstrate how sequencing data of viruses are used to identify coronavirus strains and to study the effect of mutations on the virus.\n"
      ],
      "metadata": {
        "id": "pkxEhihHwJNe"
      }
    },
    {
      "cell_type": "markdown",
      "source": [],
      "metadata": {
        "id": "8QAFkuZwekO1"
      }
    },
    {
      "cell_type": "markdown",
      "source": [
        "## Set working directory\n",
        "\n",
        "By default working directoy will be My Drive/SARS-CoV2"
      ],
      "metadata": {
        "id": "h4szKnnMLohP"
      }
    },
    {
      "cell_type": "code",
      "source": [
        "# set working pathway to your own google drive doc (~ 1 min)\n",
        "from google.colab import drive\n",
        "drive.mount('/content/gdrive')                         # if using for the first time, you be requested to grant permission to link your Google Drive\n",
        "\n",
        "import os\n",
        "try:\n",
        "  os.mkdir(\"/content/gdrive/My Drive/SARS-CoV2\")         # change this path if necessary\n",
        "except FileExistsError:\n",
        "  print(\"directory already exist. OK to continue\")\n",
        "os.chdir(\"/content/gdrive/My Drive/SARS-CoV2\")"
      ],
      "metadata": {
        "id": "z1jCdzEgz89Y"
      },
      "execution_count": null,
      "outputs": []
    },
    {
      "cell_type": "code",
      "source": [
        "pwd"
      ],
      "metadata": {
        "id": "hDFupuL4nHY_"
      },
      "execution_count": null,
      "outputs": []
    },
    {
      "cell_type": "markdown",
      "source": [
        "## Package installation and downloads for workshop (~ 5 minutes)\n",
        "\n",
        "1.   conda (for simple installation of packages)\n",
        "2.   ClustalW (for sequence alignment)\n",
        "3.   biopython (tools for interacting with bioinformatics file formats)\n",
        "4.   py3Dmol (for protein structure visualisation)\n",
        "5.   Download ready prepared files for analysis.\n"
      ],
      "metadata": {
        "id": "H5cxCc02_cL2"
      }
    },
    {
      "cell_type": "code",
      "source": [
        "# install conda (~ 1 min). There will be a message saying that the session has crashed but don't worry about this. This is due to the session restarting following conda installation\n",
        "!pip install -q condacolab\n",
        "import condacolab#\n",
        "condacolab.install()"
      ],
      "metadata": {
        "id": "8gd2qbIAwuWp"
      },
      "execution_count": null,
      "outputs": []
    },
    {
      "cell_type": "code",
      "source": [
        "# install ClustalW\n",
        "!conda install -c bioconda clustalw"
      ],
      "metadata": {
        "id": "Q0WzeVVjqV2e"
      },
      "execution_count": null,
      "outputs": []
    },
    {
      "cell_type": "code",
      "source": [
        "# install Biopython\n",
        "# note that there maybe a message about the need for a restart due to a new version of numpy. You can ignore this.\n",
        "!pip install biopython"
      ],
      "metadata": {
        "id": "m3zR5lZ9nNwJ"
      },
      "execution_count": null,
      "outputs": []
    },
    {
      "cell_type": "code",
      "source": [
        "# install py3Dmol\n",
        "!pip install py3Dmol\n"
      ],
      "metadata": {
        "id": "jAemjsVMpmAn"
      },
      "execution_count": null,
      "outputs": []
    },
    {
      "cell_type": "code",
      "source": [
        "# double check that we are in right directory\n",
        "import os\n",
        "os.chdir(\"/content/gdrive/My Drive/SARS-CoV2\")\n",
        "\n",
        "# download fasta files for analysis\n",
        "!wget -O SARSCoV2_Spike.fa https://raw.githubusercontent.com/jasonwong-lab/HKU_STEM/main/SARSCoV2_Spike.fa       # SARSCov2_Spike.fa\n",
        "!wget -O Virus_seq.fa https://raw.githubusercontent.com/jasonwong-lab/HKU_STEM/main/Virus_seq.fa                 # Virus_seq.fa"
      ],
      "metadata": {
        "id": "5IdwRrDdxfqf"
      },
      "execution_count": null,
      "outputs": []
    },
    {
      "cell_type": "code",
      "source": [
        "ls"
      ],
      "metadata": {
        "id": "tAgBtife2jLK"
      },
      "execution_count": null,
      "outputs": []
    },
    {
      "cell_type": "markdown",
      "source": [
        "## Whole genome alignment of coronaviruses\n",
        "\n",
        "We have prepared sequences for 5 well characterised coronavirus species. These are:\n",
        "\n",
        "*   SARS-CoV2\n",
        "*   SARS-CoV\n",
        "*   AlphaCoV 229E\n",
        "*   AlphaCoV NL63\n",
        "*   MERS\n",
        "\n",
        "For this first section, we will demonstrate how the genome sequence of the viruses can be used to distingush and reveal their relationship.\n",
        "\n",
        "1.   Run multiple sequence alignment on the virus sequences\n",
        "2.   Count the number of differing nucleotides between SARS-CoV2 and the other virues\n",
        "3.   Construct a phylogenetic tree\n",
        "\n"
      ],
      "metadata": {
        "id": "JofTyaOWAVXy"
      }
    },
    {
      "cell_type": "code",
      "source": [],
      "metadata": {
        "id": "lwjpi-av8jXW"
      },
      "execution_count": null,
      "outputs": []
    },
    {
      "cell_type": "code",
      "source": [
        "# take a look at Fasta file format\n",
        "!head Virus_seq.fa"
      ],
      "metadata": {
        "id": "BETr4lq6B2Wp"
      },
      "execution_count": null,
      "outputs": []
    },
    {
      "cell_type": "code",
      "source": [
        "# run ClustalW for alignment. (~3 minutes)\n",
        "from Bio import AlignIO\n",
        "from Bio.Align.Applications import ClustalwCommandline\n",
        "cmd = ClustalwCommandline(\"clustalw2\",infile=\"Virus_seq.fa\",topdiags=1,quicktree=1)\n",
        "print(cmd)\n",
        "stdout, stderr = cmd()\n",
        "\n",
        "# check to see output files generated by ClustalW. Should see two new files Virus_seq.aln and Virus_seq.dnd\n",
        "!ls"
      ],
      "metadata": {
        "id": "gpgLV_7X2nEN"
      },
      "execution_count": null,
      "outputs": []
    },
    {
      "cell_type": "code",
      "source": [
        "# Display alignment result as text output. First 50 lines.\n",
        "align = open(\"Virus_seq.aln\", \"r\")\n",
        "print(''.join(align.readlines()[0:100]))"
      ],
      "metadata": {
        "id": "AfaWIFofl2ii"
      },
      "execution_count": null,
      "outputs": []
    },
    {
      "cell_type": "code",
      "source": [
        "# Count number of nucleotides that are different between SARS-CoV2 and each virus\n",
        "# read alignment result\n",
        "from Bio import AlignIO\n",
        "align = AlignIO.read(\"Virus_seq.aln\", \"clustal\")\n",
        "print(align)\n",
        "\n",
        "# Get SARSCoV2 record\n",
        "SARSCoV2 = align[0]\n",
        "\n",
        "# Loop through and count differences\n",
        "for i in align:\n",
        "  diff_nuc = 0\n",
        "  pos = 0\n",
        "  for j in i.seq:\n",
        "    if (j != \"-\" or SARSCoV2.seq[pos] != \"-\") and j != SARSCoV2.seq[pos]:\n",
        "       diff_nuc+=1\n",
        "    pos+=1\n",
        "  print(i.id, diff_nuc)"
      ],
      "metadata": {
        "id": "d04BKfvt5Tqy"
      },
      "execution_count": null,
      "outputs": []
    },
    {
      "cell_type": "code",
      "source": [
        "#Draw phylogenetic tree\n",
        "\n",
        "from Bio import Phylo\n",
        "tree = Phylo.read(\"Virus_seq.dnd\", \"newick\")\n",
        "Phylo.draw_ascii(tree)"
      ],
      "metadata": {
        "id": "p6cZjsO1zemf"
      },
      "execution_count": null,
      "outputs": []
    },
    {
      "cell_type": "markdown",
      "source": [
        "## Spike protein sequence analysis\n",
        "\n",
        "The spike protein is of considerable interest in terms of SARS-CoV2 because it is responsible for recognising human cells and mediating entry and infection. Furthermore, COVID-19 vaccines are designed to generate antibodies that target the spike protein. Therefore mutations in the spike protein can both affect the virulance of SARS-CoV2 and may also affect the efficacy of vaccines.\n",
        "\n",
        "For this part of the workshop we will specifically analyse the spike protein of SARS-CoV2 strains. Specifically we will:\n",
        "\n",
        "1.   Translate the S gene into the spike protein sequence.\n",
        "2.   Align and compare the spike protein for SARS-CoV2 strains.\n",
        "3.   Find the specific amino acid differences between Wuhan strain with Delta and Omicron BA.5\n",
        "4.   Visualise the spike protein structure.\n",
        "\n"
      ],
      "metadata": {
        "id": "uKr530TfLvff"
      }
    },
    {
      "cell_type": "code",
      "source": [
        "# Extract S gene and translate to protein sequence\n",
        "# Based on NCBI the location of the Spike gene is between 21563..25384\n",
        "from Bio import SeqIO\n",
        "rawSeq = SeqIO.parse(\"Virus_seq.fa\", \"fasta\")\n",
        "for i in rawSeq:\n",
        "  if i.id == \"SARSCoV2_NC045512\":\n",
        "    print(i)\n",
        "    Sgene = i.seq[21562:25384]              # python index are 0-based so need to subtract start by 1. End is exclusive so leave as is.\n",
        "\n",
        "print(\"\\nSARSCoV2_NC045512 S gene sequence\")\n",
        "print(Sgene)\n",
        "\n",
        "#translate from DNA to Protein\n",
        "Sprotein = Sgene.translate()\n",
        "print(\"\\nSARSCoV2_NC045512 spike protein sequence\")\n",
        "print(Sprotein)\n"
      ],
      "metadata": {
        "id": "KDpQ2E639OL4"
      },
      "execution_count": null,
      "outputs": []
    },
    {
      "cell_type": "code",
      "source": [
        "# run Clustalw and again aligned amino acid sequences with the same length\n",
        "from Bio.Align.Applications import ClustalwCommandline\n",
        "cmd = ClustalwCommandline(\"clustalw2\",infile=\"SARSCoV2_Spike.fa\")\n",
        "print(cmd)\n",
        "stdout, stderr = cmd()\n",
        "\n",
        "# look at phylogenetic relationship\n",
        "from Bio import Phylo\n",
        "tree = Phylo.read(\"SARSCoV2_Spike.dnd\", \"newick\")\n",
        "Phylo.draw_ascii(tree)"
      ],
      "metadata": {
        "id": "vEEiamDXLz7r"
      },
      "execution_count": null,
      "outputs": []
    },
    {
      "cell_type": "code",
      "source": [
        "# Display alignment result as text output (show only first 98 lines of the file).\n",
        "align = open(\"SARSCoV2_Spike.aln\", \"r\")\n",
        "print(''.join(align.readlines()[0:50]))"
      ],
      "metadata": {
        "id": "e12OegKacOkq"
      },
      "execution_count": null,
      "outputs": []
    },
    {
      "cell_type": "code",
      "source": [
        "#Get differences in Spike protein between Wuhan and Delta\n",
        "#read alignment result\n",
        "from Bio import AlignIO\n",
        "align = AlignIO.read(\"SARSCoV2_Spike.aln\", \"clustal\")\n",
        "\n",
        "print (\"Delta variants in Spike protein\")\n",
        "\n",
        "#Get Wuhan record\n",
        "Wuhan = align[0]\n",
        "\n",
        "#Loop through and find mutations in Delta Spike protein\n",
        "for i in align:\n",
        "  if i.id == \"Delta\":\n",
        "    pos = 0\n",
        "    realpos = 0             # accounts for gaps in the Wuhan protein sequence\n",
        "    for j in i.seq:\n",
        "      if j != Wuhan.seq[pos]:\n",
        "        print(Wuhan.seq[pos],str(realpos+1),j)\n",
        "      if (Wuhan.seq[pos] != \"-\"):\n",
        "          realpos+=1\n",
        "      pos+=1\n",
        "\n",
        "\n",
        "print (\"\\nOmicron BA.5 variants in Spike protein\")\n",
        "#Loop through and find mutations in Omicron BA.5 Spike protein\n",
        "for i in align:\n",
        "  if i.id == \"Omicron.BA5\":\n",
        "    pos = 0\n",
        "    realpos = 0             # accounts for gaps in the Wuhan protein sequence\n",
        "    for j in i.seq:\n",
        "      if j != Wuhan.seq[pos]:\n",
        "        print(Wuhan.seq[pos],str(realpos+1),j)\n",
        "      if (Wuhan.seq[pos] != \"-\"):\n",
        "          realpos+=1\n",
        "      pos+=1\n"
      ],
      "metadata": {
        "id": "FgX8nLO4cbxj"
      },
      "execution_count": null,
      "outputs": []
    },
    {
      "cell_type": "code",
      "source": [
        "# Visualising the structure of the spike protein\n",
        "# load cyroEM structure of spike protein from PDB (protein databank)\n",
        "\n",
        "import py3Dmol\n",
        "p = py3Dmol.view(query='mmtf:7BBH',width=600,height=600)\n",
        "p.setBackgroundColor('white')\n",
        "p.setStyle({'cartoon': {'color':'spectrum'}})\n",
        "p.addStyle({'chain':'A'},{'cartoon': {'color':'red'}})\n",
        "p.addStyle({'chain':'B'},{'cartoon': {'color':'green'}})\n",
        "p.addStyle({'chain':'C'},{'cartoon': {'color':'blue'}})\n",
        "\n",
        "p.show()"
      ],
      "metadata": {
        "id": "VQGcyknvWx_x"
      },
      "execution_count": null,
      "outputs": []
    },
    {
      "cell_type": "code",
      "source": [
        "#view RBD (receptor bind domain variants)\n",
        "p = py3Dmol.view(query='mmtf:7BBH',width=600,height=600)\n",
        "p.setBackgroundColor('white')\n",
        "p.setStyle({'cartoon': {'color':'spectrum'}})\n",
        "p.addStyle({'chain':'C','resi':[\"319-541\"]},{'cartoon': {'color':'red'}})\n",
        "p.addStyle({'chain':'C','resi':[452,478]},{'stick':{'colorscheme':'skyBlueCarbon'}})\n",
        "p.show()"
      ],
      "metadata": {
        "id": "gMS-2NHAntpn"
      },
      "execution_count": null,
      "outputs": []
    }
  ]
}